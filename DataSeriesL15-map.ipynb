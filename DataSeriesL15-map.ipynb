{
 "cells": [
  {
   "cell_type": "code",
   "execution_count": 1,
   "metadata": {},
   "outputs": [],
   "source": [
    "import pandas as pd\n",
    "import numpy as np\n",
    "import matplotlib.pyplot as plt\n",
    "import math"
   ]
  },
  {
   "cell_type": "code",
   "execution_count": 2,
   "metadata": {},
   "outputs": [
    {
     "data": {
      "text/plain": [
       "Andy       5\n",
       "Bob        3\n",
       "Chris      2\n",
       "Dirk       4\n",
       "Francis    3\n",
       "George     4\n",
       "Henry      4\n",
       "Ivan       5\n",
       "dtype: int64"
      ]
     },
     "execution_count": 2,
     "metadata": {},
     "output_type": "execute_result"
    }
   ],
   "source": [
    "team = pd.Series(data=[5,3,2,4,3,4,4,5],\n",
    "                 index=['Andy','Bob','Chris','Dirk', \n",
    "                        'Francis','George','Henry','Ivan'])\n",
    "team"
   ]
  },
  {
   "cell_type": "code",
   "execution_count": 3,
   "metadata": {},
   "outputs": [
    {
     "data": {
      "text/plain": [
       "1      C\n",
       "2      B\n",
       "3      A\n",
       "4     A+\n",
       "5    A++\n",
       "dtype: object"
      ]
     },
     "execution_count": 3,
     "metadata": {},
     "output_type": "execute_result"
    }
   ],
   "source": [
    "notes = pd.Series(data=['C','B','A','A+','A++'],\n",
    "                  index=[1,2,3,4,5])\n",
    "notes"
   ]
  },
  {
   "cell_type": "code",
   "execution_count": 4,
   "metadata": {},
   "outputs": [
    {
     "data": {
      "text/plain": [
       "Andy       A++\n",
       "Bob          A\n",
       "Chris        B\n",
       "Dirk        A+\n",
       "Francis      A\n",
       "George      A+\n",
       "Henry       A+\n",
       "Ivan       A++\n",
       "dtype: object"
      ]
     },
     "execution_count": 4,
     "metadata": {},
     "output_type": "execute_result"
    }
   ],
   "source": [
    "team.map(notes)"
   ]
  },
  {
   "cell_type": "code",
   "execution_count": 5,
   "metadata": {},
   "outputs": [
    {
     "data": {
      "text/plain": [
       "{1: 'C', 2: 'B', 3: 'A', 4: 'A+', 5: 'A++'}"
      ]
     },
     "execution_count": 5,
     "metadata": {},
     "output_type": "execute_result"
    }
   ],
   "source": [
    "notes_dict = {1:'C',2:'B',3:'A',4:'A+',5:'A++'}\n",
    "notes_dict"
   ]
  },
  {
   "cell_type": "code",
   "execution_count": 6,
   "metadata": {},
   "outputs": [
    {
     "data": {
      "text/plain": [
       "Andy       A++\n",
       "Bob          A\n",
       "Chris        B\n",
       "Dirk        A+\n",
       "Francis      A\n",
       "George      A+\n",
       "Henry       A+\n",
       "Ivan       A++\n",
       "dtype: object"
      ]
     },
     "execution_count": 6,
     "metadata": {},
     "output_type": "execute_result"
    }
   ],
   "source": [
    "teamNotes = team.map(notes_dict)\n",
    "teamNotes"
   ]
  },
  {
   "cell_type": "code",
   "execution_count": null,
   "metadata": {},
   "outputs": [],
   "source": []
  }
 ],
 "metadata": {
  "kernelspec": {
   "display_name": "Python 3",
   "language": "python",
   "name": "python3"
  },
  "language_info": {
   "codemirror_mode": {
    "name": "ipython",
    "version": 3
   },
   "file_extension": ".py",
   "mimetype": "text/x-python",
   "name": "python",
   "nbconvert_exporter": "python",
   "pygments_lexer": "ipython3",
   "version": "3.7.6"
  }
 },
 "nbformat": 4,
 "nbformat_minor": 4
}
