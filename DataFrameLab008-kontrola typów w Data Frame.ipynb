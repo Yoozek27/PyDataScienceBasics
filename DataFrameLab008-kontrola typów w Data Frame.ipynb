{
 "cells": [
  {
   "cell_type": "code",
   "execution_count": 1,
   "metadata": {},
   "outputs": [
    {
     "data": {
      "text/html": [
       "<div>\n",
       "<style scoped>\n",
       "    .dataframe tbody tr th:only-of-type {\n",
       "        vertical-align: middle;\n",
       "    }\n",
       "\n",
       "    .dataframe tbody tr th {\n",
       "        vertical-align: top;\n",
       "    }\n",
       "\n",
       "    .dataframe thead th {\n",
       "        text-align: right;\n",
       "    }\n",
       "</style>\n",
       "<table border=\"1\" class=\"dataframe\">\n",
       "  <thead>\n",
       "    <tr style=\"text-align: right;\">\n",
       "      <th></th>\n",
       "      <th>Year</th>\n",
       "      <th>Make</th>\n",
       "      <th>Model</th>\n",
       "      <th>Class</th>\n",
       "      <th>Fuel Type</th>\n",
       "      <th>Combined MPG (FT1)</th>\n",
       "    </tr>\n",
       "    <tr>\n",
       "      <th>Vehicle ID</th>\n",
       "      <th></th>\n",
       "      <th></th>\n",
       "      <th></th>\n",
       "      <th></th>\n",
       "      <th></th>\n",
       "      <th></th>\n",
       "    </tr>\n",
       "  </thead>\n",
       "  <tbody>\n",
       "    <tr>\n",
       "      <th>26587</th>\n",
       "      <td>1984</td>\n",
       "      <td>Alfa Romeo</td>\n",
       "      <td>GT V6 2.5</td>\n",
       "      <td>Minicompact Cars</td>\n",
       "      <td>Regular</td>\n",
       "      <td>20.0</td>\n",
       "    </tr>\n",
       "    <tr>\n",
       "      <th>27705</th>\n",
       "      <td>1984</td>\n",
       "      <td>Alfa Romeo</td>\n",
       "      <td>GT V6 2.5</td>\n",
       "      <td>Minicompact Cars</td>\n",
       "      <td>Regular</td>\n",
       "      <td>20.0</td>\n",
       "    </tr>\n",
       "    <tr>\n",
       "      <th>26561</th>\n",
       "      <td>1984</td>\n",
       "      <td>Alfa Romeo</td>\n",
       "      <td>Spider Veloce 2000</td>\n",
       "      <td>Two Seaters</td>\n",
       "      <td>Regular</td>\n",
       "      <td>21.0</td>\n",
       "    </tr>\n",
       "    <tr>\n",
       "      <th>27681</th>\n",
       "      <td>1984</td>\n",
       "      <td>Alfa Romeo</td>\n",
       "      <td>Spider Veloce 2000</td>\n",
       "      <td>Two Seaters</td>\n",
       "      <td>Regular</td>\n",
       "      <td>21.0</td>\n",
       "    </tr>\n",
       "    <tr>\n",
       "      <th>27550</th>\n",
       "      <td>1984</td>\n",
       "      <td>AM General</td>\n",
       "      <td>DJ Po Vehicle 2WD</td>\n",
       "      <td>Special Purpose Vehicle 2WD</td>\n",
       "      <td>Regular</td>\n",
       "      <td>17.0</td>\n",
       "    </tr>\n",
       "  </tbody>\n",
       "</table>\n",
       "</div>"
      ],
      "text/plain": [
       "            Year        Make               Model                        Class  \\\n",
       "Vehicle ID                                                                      \n",
       "26587       1984  Alfa Romeo           GT V6 2.5             Minicompact Cars   \n",
       "27705       1984  Alfa Romeo           GT V6 2.5             Minicompact Cars   \n",
       "26561       1984  Alfa Romeo  Spider Veloce 2000                  Two Seaters   \n",
       "27681       1984  Alfa Romeo  Spider Veloce 2000                  Two Seaters   \n",
       "27550       1984  AM General   DJ Po Vehicle 2WD  Special Purpose Vehicle 2WD   \n",
       "\n",
       "           Fuel Type  Combined MPG (FT1)  \n",
       "Vehicle ID                                \n",
       "26587        Regular                20.0  \n",
       "27705        Regular                20.0  \n",
       "26561        Regular                21.0  \n",
       "27681        Regular                21.0  \n",
       "27550        Regular                17.0  "
      ]
     },
     "execution_count": 1,
     "metadata": {},
     "output_type": "execute_result"
    }
   ],
   "source": [
    "import pandas as pd\n",
    "import numpy as np\n",
    "\n",
    "fuel = pd.read_csv('./data/fuel.csv', low_memory=False,\n",
    "                  usecols=['Vehicle ID','Year','Make','Model',\n",
    "                           'Class','Fuel Type','Combined MPG (FT1)'],\n",
    "                  index_col='Vehicle ID')\n",
    "fuel.head()"
   ]
  },
  {
   "cell_type": "code",
   "execution_count": 2,
   "metadata": {},
   "outputs": [
    {
     "name": "stdout",
     "output_type": "stream",
     "text": [
      "<class 'pandas.core.frame.DataFrame'>\n",
      "Int64Index: 31684 entries, 26587 to 32106\n",
      "Data columns (total 6 columns):\n",
      " #   Column              Non-Null Count  Dtype  \n",
      "---  ------              --------------  -----  \n",
      " 0   Year                31684 non-null  int64  \n",
      " 1   Make                31684 non-null  object \n",
      " 2   Model               31683 non-null  object \n",
      " 3   Class               31683 non-null  object \n",
      " 4   Fuel Type           31683 non-null  object \n",
      " 5   Combined MPG (FT1)  31683 non-null  float64\n",
      "dtypes: float64(1), int64(1), object(4)\n",
      "memory usage: 1.7+ MB\n"
     ]
    }
   ],
   "source": [
    "fuel.info()"
   ]
  },
  {
   "cell_type": "code",
   "execution_count": 3,
   "metadata": {},
   "outputs": [
    {
     "name": "stdout",
     "output_type": "stream",
     "text": [
      "<class 'pandas.core.frame.DataFrame'>\n",
      "Int64Index: 31684 entries, 26587 to 32106\n",
      "Data columns (total 6 columns):\n",
      " #   Column              Non-Null Count  Dtype  \n",
      "---  ------              --------------  -----  \n",
      " 0   Year                31684 non-null  int64  \n",
      " 1   Make                31684 non-null  object \n",
      " 2   Model               31683 non-null  object \n",
      " 3   Class               31683 non-null  object \n",
      " 4   Fuel Type           31683 non-null  object \n",
      " 5   Combined MPG (FT1)  31683 non-null  float64\n",
      "dtypes: float64(1), int64(1), object(4)\n",
      "memory usage: 8.9 MB\n"
     ]
    }
   ],
   "source": [
    "fuel.info(memory_usage='deep')"
   ]
  },
  {
   "cell_type": "code",
   "execution_count": 4,
   "metadata": {},
   "outputs": [
    {
     "name": "stdout",
     "output_type": "stream",
     "text": [
      "<class 'pandas.core.frame.DataFrame'>\n",
      "Int64Index: 31684 entries, 26587 to 32106\n",
      "Data columns (total 6 columns):\n",
      " #   Column              Non-Null Count  Dtype  \n",
      "---  ------              --------------  -----  \n",
      " 0   Year                31684 non-null  int32  \n",
      " 1   Make                31684 non-null  object \n",
      " 2   Model               31683 non-null  object \n",
      " 3   Class               31683 non-null  object \n",
      " 4   Fuel Type           31683 non-null  object \n",
      " 5   Combined MPG (FT1)  31683 non-null  float64\n",
      "dtypes: float64(1), int32(1), object(4)\n",
      "memory usage: 8.8 MB\n"
     ]
    }
   ],
   "source": [
    "fuel['Year'] = fuel['Year'].astype('int')\n",
    "fuel.info(memory_usage='deep')"
   ]
  },
  {
   "cell_type": "code",
   "execution_count": 5,
   "metadata": {},
   "outputs": [
    {
     "data": {
      "text/plain": [
       "Chevrolet              3389\n",
       "Ford                   2721\n",
       "Dodge                  2361\n",
       "GMC                    2174\n",
       "Toyota                 1599\n",
       "                       ... \n",
       "Fisker                    1\n",
       "General Motors            1\n",
       "Shelby                    1\n",
       "E. P. Dutton, Inc.        1\n",
       "London Coach Co Inc       1\n",
       "Name: Make, Length: 128, dtype: int64"
      ]
     },
     "execution_count": 5,
     "metadata": {},
     "output_type": "execute_result"
    }
   ],
   "source": [
    "fuel['Make'].value_counts()"
   ]
  },
  {
   "cell_type": "code",
   "execution_count": 6,
   "metadata": {},
   "outputs": [
    {
     "name": "stdout",
     "output_type": "stream",
     "text": [
      "<class 'pandas.core.frame.DataFrame'>\n",
      "Int64Index: 31684 entries, 26587 to 32106\n",
      "Data columns (total 6 columns):\n",
      " #   Column              Non-Null Count  Dtype   \n",
      "---  ------              --------------  -----   \n",
      " 0   Year                31684 non-null  int32   \n",
      " 1   Make                31684 non-null  category\n",
      " 2   Model               31683 non-null  object  \n",
      " 3   Class               31683 non-null  object  \n",
      " 4   Fuel Type           31683 non-null  object  \n",
      " 5   Combined MPG (FT1)  31683 non-null  float64 \n",
      "dtypes: category(1), float64(1), int32(1), object(3)\n",
      "memory usage: 6.9 MB\n"
     ]
    }
   ],
   "source": [
    "fuel['Make'] = fuel['Make'].astype('category')\n",
    "fuel.info(memory_usage='deep')"
   ]
  },
  {
   "cell_type": "code",
   "execution_count": 7,
   "metadata": {},
   "outputs": [
    {
     "name": "stdout",
     "output_type": "stream",
     "text": [
      "<class 'pandas.core.frame.DataFrame'>\n",
      "Int64Index: 31684 entries, 26587 to 32106\n",
      "Data columns (total 6 columns):\n",
      " #   Column              Non-Null Count  Dtype   \n",
      "---  ------              --------------  -----   \n",
      " 0   Year                31684 non-null  int32   \n",
      " 1   Make                31684 non-null  category\n",
      " 2   Model               31683 non-null  category\n",
      " 3   Class               31683 non-null  object  \n",
      " 4   Fuel Type           31683 non-null  object  \n",
      " 5   Combined MPG (FT1)  31683 non-null  float64 \n",
      "dtypes: category(2), float64(1), int32(1), object(2)\n",
      "memory usage: 5.2 MB\n"
     ]
    }
   ],
   "source": [
    "fuel['Model'] = fuel['Model'].astype('category')\n",
    "fuel.info(memory_usage='deep')"
   ]
  },
  {
   "cell_type": "code",
   "execution_count": 8,
   "metadata": {},
   "outputs": [
    {
     "name": "stdout",
     "output_type": "stream",
     "text": [
      "<class 'pandas.core.frame.DataFrame'>\n",
      "Int64Index: 31684 entries, 26587 to 32106\n",
      "Data columns (total 6 columns):\n",
      " #   Column              Non-Null Count  Dtype   \n",
      "---  ------              --------------  -----   \n",
      " 0   Year                31684 non-null  int32   \n",
      " 1   Make                31684 non-null  category\n",
      " 2   Model               31683 non-null  category\n",
      " 3   Class               31683 non-null  category\n",
      " 4   Fuel Type           31683 non-null  object  \n",
      " 5   Combined MPG (FT1)  31683 non-null  float64 \n",
      "dtypes: category(3), float64(1), int32(1), object(1)\n",
      "memory usage: 3.0 MB\n"
     ]
    }
   ],
   "source": [
    "fuel['Class'] = fuel['Class'].astype('category')\n",
    "fuel.info(memory_usage='deep')"
   ]
  },
  {
   "cell_type": "code",
   "execution_count": 9,
   "metadata": {},
   "outputs": [
    {
     "name": "stdout",
     "output_type": "stream",
     "text": [
      "<class 'pandas.core.frame.DataFrame'>\n",
      "Int64Index: 31684 entries, 26587 to 32106\n",
      "Data columns (total 6 columns):\n",
      " #   Column              Non-Null Count  Dtype   \n",
      "---  ------              --------------  -----   \n",
      " 0   Year                31684 non-null  int32   \n",
      " 1   Make                31684 non-null  category\n",
      " 2   Model               31683 non-null  category\n",
      " 3   Class               31683 non-null  category\n",
      " 4   Fuel Type           31683 non-null  category\n",
      " 5   Combined MPG (FT1)  31683 non-null  float64 \n",
      "dtypes: category(4), float64(1), int32(1)\n",
      "memory usage: 1.1 MB\n"
     ]
    }
   ],
   "source": [
    "fuel['Fuel Type'] = fuel['Fuel Type'].astype('category')\n",
    "fuel.info(memory_usage='deep')"
   ]
  },
  {
   "cell_type": "code",
   "execution_count": 10,
   "metadata": {},
   "outputs": [
    {
     "name": "stdout",
     "output_type": "stream",
     "text": [
      "<class 'pandas.core.frame.DataFrame'>\n",
      "Int64Index: 31684 entries, 26587 to 32106\n",
      "Data columns (total 6 columns):\n",
      " #   Column              Non-Null Count  Dtype   \n",
      "---  ------              --------------  -----   \n",
      " 0   Year                31684 non-null  int32   \n",
      " 1   Make                31684 non-null  category\n",
      " 2   Model               31683 non-null  category\n",
      " 3   Class               31683 non-null  category\n",
      " 4   Fuel Type           31683 non-null  category\n",
      " 5   Combined MPG (FT1)  31683 non-null  float64 \n",
      "dtypes: category(4), float64(1), int32(1)\n",
      "memory usage: 1.1 MB\n"
     ]
    }
   ],
   "source": [
    "fuel['Combined MPG (FT1)'] = fuel['Combined MPG (FT1)'].astype('float')\n",
    "fuel.info(memory_usage='deep')"
   ]
  },
  {
   "cell_type": "code",
   "execution_count": null,
   "metadata": {},
   "outputs": [],
   "source": []
  }
 ],
 "metadata": {
  "kernelspec": {
   "display_name": "Python 3",
   "language": "python",
   "name": "python3"
  },
  "language_info": {
   "codemirror_mode": {
    "name": "ipython",
    "version": 3
   },
   "file_extension": ".py",
   "mimetype": "text/x-python",
   "name": "python",
   "nbconvert_exporter": "python",
   "pygments_lexer": "ipython3",
   "version": "3.7.6"
  }
 },
 "nbformat": 4,
 "nbformat_minor": 4
}
